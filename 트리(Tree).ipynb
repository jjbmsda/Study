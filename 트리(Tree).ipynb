{
  "nbformat": 4,
  "nbformat_minor": 0,
  "metadata": {
    "colab": {
      "name": "트리(Tree).ipynb",
      "provenance": [],
      "collapsed_sections": [],
      "authorship_tag": "ABX9TyOKAwdi6R4pyfLJMnNaTlFA",
      "include_colab_link": true
    },
    "kernelspec": {
      "name": "python3",
      "display_name": "Python 3"
    },
    "language_info": {
      "name": "python"
    }
  },
  "cells": [
    {
      "cell_type": "markdown",
      "metadata": {
        "id": "view-in-github",
        "colab_type": "text"
      },
      "source": [
        "<a href=\"https://colab.research.google.com/github/jjbmsda/Study/blob/main/%ED%8A%B8%EB%A6%AC(Tree).ipynb\" target=\"_parent\"><img src=\"https://colab.research.google.com/assets/colab-badge.svg\" alt=\"Open In Colab\"/></a>"
      ]
    },
    {
      "cell_type": "code",
      "metadata": {
        "id": "U5fvSFjiRmts"
      },
      "source": [
        "class Node:\n",
        "  def __init__(self, value):\n",
        "    self.value = value\n",
        "    self.left = None\n",
        "    self.right = None\n",
        "\n",
        "  "
      ],
      "execution_count": 3,
      "outputs": []
    },
    {
      "cell_type": "code",
      "metadata": {
        "id": "jMCJXrfETP69"
      },
      "source": [
        "class NodeMgmt:\n",
        "  def __init__(self, head):\n",
        "    self.head = head # 루트노드\n",
        "\n",
        "  def insert(self, value):\n",
        "    self.current_node = self.head\n",
        "    while True:\n",
        "      if value < self.current_node.value: # 루트노드가 신규 값보다 큰 경우 (왼쪽으로 이동)\n",
        "        if self.current_node.left != None: # 왼쪽에 노드가 있다면\n",
        "          self.current_node = self.current_node.left # 왼쪽 노드를 현재값으로 하여 다시 비교\n",
        "        else: # 왼쪽에 노드가 없다면\n",
        "          self.current_node.left = Node(value) # 현재 값을 왼쪽 노드로 생성\n",
        "          break\n",
        "      else:  # 루트노드가 신규 값보다 작은 경우 (오른쪽으로 이동)\n",
        "        if self.current_node.right != None:  # 오른쪽에 노드가 있다면\n",
        "          self.current_node = self.current_node.right # 오른쪽 노드를 현재값으로 하여 다시 비교 \n",
        "        else: # 오른쪽에 노드가 없다면\n",
        "          self.current_node.right = Node(value) # 현재 값을 오른쪽 노드로 생성\n",
        "          break\n"
      ],
      "execution_count": 4,
      "outputs": []
    },
    {
      "cell_type": "code",
      "metadata": {
        "id": "qIvwQHzhVWUV"
      },
      "source": [
        "head = Node(1)\n",
        "BST = NodeMgmt(head)\n",
        "BST.insert(2)"
      ],
      "execution_count": 5,
      "outputs": []
    },
    {
      "cell_type": "code",
      "metadata": {
        "id": "XPJu8litV1x_"
      },
      "source": [
        "class NodeMgmt:\n",
        "  def __init__(self, head):\n",
        "    self.head = head # 루트노드\n",
        "\n",
        "  def insert(self, value):\n",
        "    self.current_node = self.head\n",
        "    while True:\n",
        "      if value < self.current_node.value: # 루트노드가 신규 값보다 큰 경우 (왼쪽으로 이동)\n",
        "        if self.current_node.left != None: # 왼쪽에 노드가 있다면\n",
        "          self.current_node = self.current_node.left # 왼쪽 노드를 현재값으로 하여 다시 비교\n",
        "        else: # 왼쪽에 노드가 없다면\n",
        "          self.current_node.left = Node(value) # 현재 값을 왼쪽 노드로 생성\n",
        "          break\n",
        "      else:  # 루트노드가 신규 값보다 작은 경우 (오른쪽으로 이동)\n",
        "        if self.current_node.right != None:  # 오른쪽에 노드가 있다면\n",
        "          self.current_node = self.current_node.right # 오른쪽 노드를 현재값으로 하여 다시 비교 \n",
        "        else: # 오른쪽에 노드가 없다면\n",
        "          self.current_node.right = Node(value) # 현재 값을 오른쪽 노드로 생성\n",
        "          break\n",
        "\n",
        "  def search(self, value):\n",
        "    self.current_node = self.head\n",
        "    while self.current_node: \n",
        "      if self.current_node.value == value: # 현재 값이 내가 찾는 값인지 비교\n",
        "        return True\n",
        "      elif value < self.current_node.value: # 찾는 값이 현재 값보다 작다면 (왼쪽에 있다는 뜻)\n",
        "        self.current_node = self.current_node.left # 현재 값을 왼쪽 값으로 바꿈\n",
        "      else: # 찾는 값이 현재 값보다 크다면 (오른쪽에 있다는 뜻)\n",
        "        self.current_node = self.current_node.right # 현재 값을 오른쪽으로 바꿈\n",
        "     \n",
        "    return False # 현재 값이 없는 경우 종료"
      ],
      "execution_count": 9,
      "outputs": []
    },
    {
      "cell_type": "code",
      "metadata": {
        "id": "YAmSZ8JKXNwM"
      },
      "source": [
        "head = Node(1)\n",
        "BST = NodeMgmt(head)\n",
        "BST.insert(2)\n",
        "BST.insert(3)\n",
        "BST.insert(0)\n",
        "BST.insert(4)\n",
        "BST.insert(8)"
      ],
      "execution_count": 10,
      "outputs": []
    },
    {
      "cell_type": "code",
      "metadata": {
        "colab": {
          "base_uri": "https://localhost:8080/"
        },
        "id": "8W27fLtBXw_f",
        "outputId": "bc2e3623-998f-45f6-b953-f99dd8e689af"
      },
      "source": [
        "BST.search(3)"
      ],
      "execution_count": 14,
      "outputs": [
        {
          "output_type": "execute_result",
          "data": {
            "text/plain": [
              "True"
            ]
          },
          "metadata": {},
          "execution_count": 14
        }
      ]
    },
    {
      "cell_type": "code",
      "metadata": {
        "id": "MrkaOKIvZUCH"
      },
      "source": [
        "def delete(self, value):\n",
        "  searched = False # 삭제할 변수가 있는지 탐색 여부\n",
        "  self.current_node = self.head # 현재 노드를 삭제할 노드로 설정\n",
        "  self.parent = self.head # 부모 노드 값을 알고 있어야 함\n",
        "  while self.current_node:\n",
        "    if self.current_node.value == value: # 현재 노드가 삭제할 노드인 경우\n",
        "      searched = True # 찾음으로 변경\n",
        "      break # while문(탐색) 종료\n",
        "    elif value < self.current_node.value: # 삭제할 값이 현재 값보다 작은 경우 (왼쪽에 있다는 뜻)\n",
        "      self.parent = self.current_node # 부모노드를 현재 값으로 설정\n",
        "      self.current_node = self.current_node.left # 현재 값을 왼쪽 노드로 설정\n",
        "    else: # 삭제할 값이 현재 값보다 큰 경우 (오른쪽에 있다는 뜻)\n",
        "      self.parent = self.current_node # 부모노드를 현재 값으로 설정\n",
        "      self.current_node = self.current_node.right # 현재 값을 오른쪽 노드로 설정\n",
        "   \n",
        "  if searched == False:\n",
        "    return False  "
      ],
      "execution_count": null,
      "outputs": []
    },
    {
      "cell_type": "code",
      "metadata": {
        "id": "RLcGc-h8cTrS"
      },
      "source": [
        "if self.current_node.left == None and self.current_node.right == None: # 삭제할 노드가 leaf 노드인 경우\n",
        "  if value < self.parent.value : # 삭제할 값이 부모노드 값보다 작은 경우 (왼쪽 자식노드를 삭제해야함)\n",
        "    self.parent.left = None # 왼쪽 자식 노드를 None 으로 설정\n",
        "  else: # 삭제할 값이 부모노드 값보다 큰 경우 (오른쪽 자식노드를 삭제해야함)\n",
        "    self.parent.right = None # 오른쪽 자식 노드를 None 으로 설정\n",
        "  del self.current_node # 현재 노드를 삭제"
      ],
      "execution_count": null,
      "outputs": []
    },
    {
      "cell_type": "code",
      "metadata": {
        "id": "HcuI9v8MdS5Q"
      },
      "source": [
        "if self.current_node.left != None and self.current_node.right == None: # 삭제할 노드가 왼쪽 자식 노드만 갖고 있는 경우\n",
        "  if value < self.parent.value: # 삭제할 값이 부모노드 값보다 작은 경우 (현재 노드가 부모 노드의 왼쪽에 위치함)\n",
        "    self.parent.left == self.current_node.left # 부모노드의 왼쪽 자식 노드를 삭제할 노드의 왼쪽 자식 노드로 변경 (현재 노드가 삭제되고 자식노드와 부모노드를 연결함)\n",
        "  else: # 삭제할 값이 부모노드 값보다 큰 경우 (현재 노드가 부모의 오른쪽 노드이고, 해당 값의 왼쪽 자식노드를 삭제해야함)\n",
        "    self.parent.right == self.current_node.left # 부모노드의 오른쪽 자식 노드를 삭제할 노드의 왼쪽 자식 노드로 변경 (현재 노드가 삭제되고 자식노드와 부모노드를 연결함) \n",
        "\n",
        "elif self.current_node.left == None and self.current_node.right != None: # 삭제할 노드가 오른쪽 자식 노드만 갖고 있는 경우\n",
        "  if value < self.parent.value: # 삭제할 값이 부모노드 값보다 작은 경우 (현재 노드가 부모 노드의 왼쪽에 위치함)\n",
        "    self.parent.left == self.current_node.right # 부모노드의 왼쪽 자식 노드를 삭제할 노드의 오른쪽 자식 노드로 변경 (현재 노드가 삭제되고 자식노드와 부모노드를 연결함)\n",
        "  else: # 삭제할 값이 부모노드 값보다 큰 경우 (현재 노드가 부모의 오른쪽 노드이고, 해당 값의 오른쪽 자식노드를 삭제해야함)\n",
        "    self.parent.right == self.current_node.right # 부모노드의 오른쪽 자식 노드를 삭제할 노드의 오른쪽 자식 노드로 변경 (현재 노드가 삭제되고 자식노드와 부모노드를 연결함)  "
      ],
      "execution_count": null,
      "outputs": []
    },
    {
      "cell_type": "code",
      "metadata": {
        "id": "CIc84y9_f3W3"
      },
      "source": [
        "if self.current_node.left != None and self.current_node.right != None: # 삭제할 노드가 양쪽 자식 노드를 모두 갖고 있는 경우\n",
        "  if value < self.parent.value: # 삭제할 노드가 부모노드의 왼쪽에 위치하는 경우\n",
        "    self.change_node = self.current_node.right # 오른쪽 노드의 값들 중 가장 작은 값을 위로 올리기 위해 이동\n",
        "    self.change_node_parent = self.current_node.right # 오른쪽 노드의 값들 중 가장 작은 값의 부모노드를 설정\n",
        "    while self.change_node.left != None: # 가장 작은 값이 나올때까지 왼쪽으로 이동\n",
        "      self.change_node_parent = self.change_node # 이동하면서 가장 작은 값의 부모노드를 설정\n",
        "      self.change_node = self.change_node.left # 가장 작은 값을 변경값으로 설정\n",
        "    self.change_node_parent.left = None # 가장 작은 값과 부모 노드의 연결을 종료\n",
        "    if self.change_node.right != None: # 가장 작은 값의 오른쪽 노드가 있는 경우\n",
        "      self.change_node_parent.left = self.change_node.right # 가장 작은 값의 오른쪽 노드를 부모 노드의 왼쪽 값으로 변경\n",
        "    else: # 가장 작은 값의 오른쪽 노드가 없는 경우\n",
        "      self.change_node_parent.left = None # 가장 작은 값의 부모 노드의 왼쪽 노드는 사라짐\n",
        "    self.parent.left = self.change_node # 삭제된 위치에 가장 작은 값을 이동시킴\n",
        "    self.change_node.right = self.current_node.right # 원래 값의 오른쪽 값을 연결\n",
        "    self.change_node.left = self.current_node.left # 원래 값의 왼쪽 값을 연결\n",
        "\n"
      ],
      "execution_count": null,
      "outputs": []
    },
    {
      "cell_type": "code",
      "metadata": {
        "id": "aX4JHjcKtQ5a"
      },
      "source": [
        "else: # 삭제할 노드가 부모노드의 오른쪽에 위치하는 경우\n",
        "  self.change_node = self.current_node.right # 오른쪽 노드의 값들 중 가장 작은 값을 위로 올리기 위해 이동 \n",
        "  self.change_node_parent = self.current_node.right # 오른쪽 노드의 값들 중 가장 작은 값의 부모노드를 설정\n",
        "  while self.change_node.left != None: # 가장 작은 값이 나올때까지 왼쪽으로 이동\n",
        "    self.change_node_parent = self.change_node # 이동하면서 가장 작은 값의 부모노드를 설정\n",
        "    self.change_node = self.change_node.left # 가장 작은 값을 변경값으로 설정\n",
        "  if self.change_node.right != None: # 가장 작은 값의 오른쪽 노드가 있는 경우\n",
        "      self.change_node_parent.left = self.change_node.right # 가장 작은 값의 오른쪽 노드를 부모 노드의 왼쪽 값으로 변경\n",
        "  else: # 가장 작은 값의 오른쪽 노드가 없는 경우\n",
        "      self.change_node_parent.left = None # 가장 작은 값의 부모 노드의 왼쪽 노드는 사라짐\n",
        "  self.parent.right = self.change_node # 삭제된 위치에 가장 작은 값을 이동시킴\n",
        "  self.change_node.left = self.current_node.left # 원래 값의 오른쪽 값을 연결\n",
        "  self.change_node.right = self.current_node.right # 원래 값의 왼쪽 값을 연결\n",
        "\n",
        "  "
      ],
      "execution_count": null,
      "outputs": []
    },
    {
      "cell_type": "code",
      "metadata": {
        "id": "2Y-FOdCNvmyw"
      },
      "source": [
        "# 0 ~ 999 숫자 중에서 임의로 100개를 추출해서, 이진 탐색 트리에 입력, 검색 삭제\n",
        "import random\n",
        "\n",
        "bst_nums = set() # 중복을 방지하기 위해 set() 로 설정\n",
        "while len(bet_nums) != 100: # 유니크한 100개가 선택 될 때까지\n",
        "  bst_nums.add(random.randint(0,999)) # 랜덤으로 숫자 담기(중복 제외)\n",
        "\n",
        "# 선택된 100개의 숫자를 이진 탐색 트리에 입력\n",
        "head = Node(500) # 트리에 입력을 위해 임의로 루트노드는 중간값인 500 설정\n",
        "binary_tree = NodeMgmt(head)\n",
        "for num in bst_nums:\n",
        "  binary_tree.insert(num)\n",
        "\n",
        "# 입력한 100개의 숫자 검색\n",
        "for num in bst_nums:\n",
        "  if binary_tree.search(num) == False:\n",
        "    print(\"Search Fail\", num)\n",
        "\n",
        "# 입력한 100개의 숫자 중 10개 랜덤 선택\n",
        "delete_nums = set()\n",
        "bst_nums = list(bst_nums)\n",
        "while len(delete_nums) != 10:\n",
        "  delete_nums.add(bst_nums[random.randint(0,99)])\n",
        "\n",
        "# 선택한 10개의 숫자를 삭제\n",
        "for del_num in delete_nums:\n",
        "  if binary_tree.delete(del_num) == False:\n",
        "    print(\"Delete Fail\", del_num)"
      ],
      "execution_count": null,
      "outputs": []
    }
  ]
}