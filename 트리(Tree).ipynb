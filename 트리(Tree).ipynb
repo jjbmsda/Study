{
  "nbformat": 4,
  "nbformat_minor": 0,
  "metadata": {
    "colab": {
      "name": "트리(Tree).ipynb",
      "provenance": [],
      "collapsed_sections": [],
      "authorship_tag": "ABX9TyNdT81RMCWgA4grxx9R0u8F",
      "include_colab_link": true
    },
    "kernelspec": {
      "name": "python3",
      "display_name": "Python 3"
    },
    "language_info": {
      "name": "python"
    }
  },
  "cells": [
    {
      "cell_type": "markdown",
      "metadata": {
        "id": "view-in-github",
        "colab_type": "text"
      },
      "source": [
        "<a href=\"https://colab.research.google.com/github/jjbmsda/Study/blob/main/%ED%8A%B8%EB%A6%AC(Tree).ipynb\" target=\"_parent\"><img src=\"https://colab.research.google.com/assets/colab-badge.svg\" alt=\"Open In Colab\"/></a>"
      ]
    },
    {
      "cell_type": "code",
      "metadata": {
        "id": "U5fvSFjiRmts"
      },
      "source": [
        "class Node:\n",
        "  def __init__(self, value):\n",
        "    self.value = value\n",
        "    self.left = None\n",
        "    self.right = None\n",
        "\n",
        "  "
      ],
      "execution_count": 3,
      "outputs": []
    },
    {
      "cell_type": "code",
      "metadata": {
        "id": "jMCJXrfETP69"
      },
      "source": [
        "class NodeMgmt:\n",
        "  def __init__(self, head):\n",
        "    self.head = head # 루트노드\n",
        "\n",
        "  def insert(self, value):\n",
        "    self.current_node = self.head\n",
        "    while True:\n",
        "      if value < self.current_node.value: # 루트노드가 신규 값보다 큰 경우 (왼쪽으로 이동)\n",
        "        if self.current_node.left != None: # 왼쪽에 노드가 있다면\n",
        "          self.current_node = self.current_node.left # 왼쪽 노드를 현재값으로 하여 다시 비교\n",
        "        else: # 왼쪽에 노드가 없다면\n",
        "          self.current_node.left = Node(value) # 현재 값을 왼쪽 노드로 생성\n",
        "          break\n",
        "      else:  # 루트노드가 신규 값보다 작은 경우 (오른쪽으로 이동)\n",
        "        if self.current_node.right != None:  # 오른쪽에 노드가 있다면\n",
        "          self.current_node = self.current_node.right # 오른쪽 노드를 현재값으로 하여 다시 비교 \n",
        "        else: # 오른쪽에 노드가 없다면\n",
        "          self.current_node.right = Node(value) # 현재 값을 오른쪽 노드로 생성\n",
        "          break\n"
      ],
      "execution_count": 4,
      "outputs": []
    },
    {
      "cell_type": "code",
      "metadata": {
        "id": "qIvwQHzhVWUV"
      },
      "source": [
        "head = Node(1)\n",
        "BST = NodeMgmt(head)\n",
        "BST.insert(2)"
      ],
      "execution_count": 5,
      "outputs": []
    },
    {
      "cell_type": "code",
      "metadata": {
        "id": "XPJu8litV1x_"
      },
      "source": [
        "class NodeMgmt:\n",
        "  def __init__(self, head):\n",
        "    self.head = head # 루트노드\n",
        "\n",
        "  def insert(self, value):\n",
        "    self.current_node = self.head\n",
        "    while True:\n",
        "      if value < self.current_node.value: # 루트노드가 신규 값보다 큰 경우 (왼쪽으로 이동)\n",
        "        if self.current_node.left != None: # 왼쪽에 노드가 있다면\n",
        "          self.current_node = self.current_node.left # 왼쪽 노드를 현재값으로 하여 다시 비교\n",
        "        else: # 왼쪽에 노드가 없다면\n",
        "          self.current_node.left = Node(value) # 현재 값을 왼쪽 노드로 생성\n",
        "          break\n",
        "      else:  # 루트노드가 신규 값보다 작은 경우 (오른쪽으로 이동)\n",
        "        if self.current_node.right != None:  # 오른쪽에 노드가 있다면\n",
        "          self.current_node = self.current_node.right # 오른쪽 노드를 현재값으로 하여 다시 비교 \n",
        "        else: # 오른쪽에 노드가 없다면\n",
        "          self.current_node.right = Node(value) # 현재 값을 오른쪽 노드로 생성\n",
        "          break\n",
        "\n",
        "  def search(self, value):\n",
        "    self.current_node = self.head\n",
        "    while self.current_node: \n",
        "      if self.current_node.value == value: # 현재 값이 내가 찾는 값인지 비교\n",
        "        return True\n",
        "      elif value < self.current_node.value: # 찾는 값이 현재 값보다 작다면 (왼쪽에 있다는 뜻)\n",
        "        self.current_node = self.current_node.left # 현재 값을 왼쪽 값으로 바꿈\n",
        "      else: # 찾는 값이 현재 값보다 크다면 (오른쪽에 있다는 뜻)\n",
        "        self.current_node = self.current_node.right # 현재 값을 오른쪽으로 바꿈\n",
        "     \n",
        "    return False # 현재 값이 없는 경우 종료"
      ],
      "execution_count": 9,
      "outputs": []
    },
    {
      "cell_type": "code",
      "metadata": {
        "id": "YAmSZ8JKXNwM"
      },
      "source": [
        "head = Node(1)\n",
        "BST = NodeMgmt(head)\n",
        "BST.insert(2)\n",
        "BST.insert(3)\n",
        "BST.insert(0)\n",
        "BST.insert(4)\n",
        "BST.insert(8)"
      ],
      "execution_count": 10,
      "outputs": []
    },
    {
      "cell_type": "code",
      "metadata": {
        "colab": {
          "base_uri": "https://localhost:8080/"
        },
        "id": "8W27fLtBXw_f",
        "outputId": "bc2e3623-998f-45f6-b953-f99dd8e689af"
      },
      "source": [
        "BST.search(3)"
      ],
      "execution_count": 14,
      "outputs": [
        {
          "output_type": "execute_result",
          "data": {
            "text/plain": [
              "True"
            ]
          },
          "metadata": {},
          "execution_count": 14
        }
      ]
    }
  ]
}