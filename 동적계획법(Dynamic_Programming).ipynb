{
  "nbformat": 4,
  "nbformat_minor": 0,
  "metadata": {
    "colab": {
      "name": "동적계획법(Dynamic Programming).ipynb",
      "provenance": [],
      "collapsed_sections": [],
      "authorship_tag": "ABX9TyNR3D0cAAhn49pWbd6CedMV",
      "include_colab_link": true
    },
    "kernelspec": {
      "name": "python3",
      "display_name": "Python 3"
    },
    "language_info": {
      "name": "python"
    }
  },
  "cells": [
    {
      "cell_type": "markdown",
      "metadata": {
        "id": "view-in-github",
        "colab_type": "text"
      },
      "source": [
        "<a href=\"https://colab.research.google.com/github/jjbmsda/Study/blob/main/%EB%8F%99%EC%A0%81%EA%B3%84%ED%9A%8D%EB%B2%95(Dynamic_Programming).ipynb\" target=\"_parent\"><img src=\"https://colab.research.google.com/assets/colab-badge.svg\" alt=\"Open In Colab\"/></a>"
      ]
    },
    {
      "cell_type": "code",
      "metadata": {
        "id": "1Bwxc3xeuMzH"
      },
      "source": [
        "### 동적계획법 예시 - 피보나치수열"
      ],
      "execution_count": 1,
      "outputs": []
    },
    {
      "cell_type": "code",
      "metadata": {
        "colab": {
          "base_uri": "https://localhost:8080/"
        },
        "id": "cpuzHhYivvD-",
        "outputId": "7d17a2a2-fed6-49e0-871b-241d03648f66"
      },
      "source": [
        "def fibo(num):\n",
        "  cache = [0 for index in range(num+1)]\n",
        "  cache[0] = 0\n",
        "  cache[1] = 1\n",
        "\n",
        "  for index in range(2, num+1):\n",
        "    cache[index] = cache[index-1] + cache[index-2]\n",
        "  return cache[num]\n",
        "\n",
        "print(fibo(10))"
      ],
      "execution_count": 2,
      "outputs": [
        {
          "output_type": "stream",
          "name": "stdout",
          "text": [
            "55\n"
          ]
        }
      ]
    }
  ]
}