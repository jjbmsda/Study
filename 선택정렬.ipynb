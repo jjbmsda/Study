{
  "nbformat": 4,
  "nbformat_minor": 0,
  "metadata": {
    "colab": {
      "name": "선택정렬.ipynb",
      "provenance": [],
      "collapsed_sections": [],
      "authorship_tag": "ABX9TyPcIl4KW2XuRS8HtQdR7qWF",
      "include_colab_link": true
    },
    "kernelspec": {
      "name": "python3",
      "display_name": "Python 3"
    },
    "language_info": {
      "name": "python"
    }
  },
  "cells": [
    {
      "cell_type": "markdown",
      "metadata": {
        "id": "view-in-github",
        "colab_type": "text"
      },
      "source": [
        "<a href=\"https://colab.research.google.com/github/jjbmsda/Study/blob/main/%EC%84%A0%ED%83%9D%EC%A0%95%EB%A0%AC.ipynb\" target=\"_parent\"><img src=\"https://colab.research.google.com/assets/colab-badge.svg\" alt=\"Open In Colab\"/></a>"
      ]
    },
    {
      "cell_type": "code",
      "metadata": {
        "id": "X5-ci7sKW0sm"
      },
      "source": [
        "def selection_sort(data):\n",
        "  for stand in range(len(data) -1): # 전체 데이터 길이 -1 로 턴 수행\n",
        "    lowest = stand # 최소값을 찾아 기준점으로 설정\n",
        "    for index in range(stand+1, len(data)): # 기준점 +1 데이터부터 비교 시작, 데이터 길이 -1 인덱스까지 비교 \n",
        "      if data[lowest] > data[index]: # 최소값이 아니라면\n",
        "        lowest = index # 해당 인덱스 값을 최소값으로 지정\n",
        "    data[lowest], data[stand] = data[stand], data[lowest] # 최저값을 기준점으로 변경\n",
        "  return data"
      ],
      "execution_count": 1,
      "outputs": []
    },
    {
      "cell_type": "code",
      "metadata": {
        "colab": {
          "base_uri": "https://localhost:8080/"
        },
        "id": "mf_6-bh-ZojA",
        "outputId": "229c0feb-ede5-43de-d259-af6666ba6966"
      },
      "source": [
        "import random\n",
        "\n",
        "data_list = random.sample(range(100),10)\n",
        "selection_sort(data_list)"
      ],
      "execution_count": 2,
      "outputs": [
        {
          "output_type": "execute_result",
          "data": {
            "text/plain": [
              "[29, 41, 43, 46, 52, 60, 77, 88, 95, 99]"
            ]
          },
          "metadata": {},
          "execution_count": 2
        }
      ]
    },
    {
      "cell_type": "code",
      "metadata": {
        "id": "kVgcAXE8Z0Sm"
      },
      "source": [
        "# 선택 정렬의 시간복잡도 = O(n2) : 반복문이 2개"
      ],
      "execution_count": null,
      "outputs": []
    }
  ]
}