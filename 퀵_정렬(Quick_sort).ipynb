{
  "nbformat": 4,
  "nbformat_minor": 0,
  "metadata": {
    "colab": {
      "name": "퀵 정렬(Quick sort).ipynb",
      "provenance": [],
      "collapsed_sections": [],
      "authorship_tag": "ABX9TyM7O/2/kpufYnjT1TCklFPm",
      "include_colab_link": true
    },
    "kernelspec": {
      "name": "python3",
      "display_name": "Python 3"
    },
    "language_info": {
      "name": "python"
    }
  },
  "cells": [
    {
      "cell_type": "markdown",
      "metadata": {
        "id": "view-in-github",
        "colab_type": "text"
      },
      "source": [
        "<a href=\"https://colab.research.google.com/github/jjbmsda/Study/blob/main/%ED%80%B5_%EC%A0%95%EB%A0%AC(Quick_sort).ipynb\" target=\"_parent\"><img src=\"https://colab.research.google.com/assets/colab-badge.svg\" alt=\"Open In Colab\"/></a>"
      ]
    },
    {
      "cell_type": "code",
      "metadata": {
        "id": "1Bwxc3xeuMzH"
      },
      "source": [
        "def qsort(data):\n",
        "  if len(data) <= 1:\n",
        "    return data\n",
        "\n",
        "  left, right = list(), list()\n",
        "  pivot = data[0]\n",
        "\n",
        "  for index in range(1, len(data)):\n",
        "    if pivot > data[index]:\n",
        "      left.append(data[index])\n",
        "    else:\n",
        "      right.append(data[index])\n",
        "\n",
        "  return qsort(left) + [pivot] + qsort(right)"
      ],
      "execution_count": 3,
      "outputs": []
    },
    {
      "cell_type": "code",
      "metadata": {
        "colab": {
          "base_uri": "https://localhost:8080/"
        },
        "id": "cpuzHhYivvD-",
        "outputId": "8b47122f-02c1-4fd6-ff22-2d402b1b977e"
      },
      "source": [
        "import random\n",
        "\n",
        "data_list = random.sample(range(100),10)\n",
        "qsort(data_list)"
      ],
      "execution_count": 4,
      "outputs": [
        {
          "output_type": "execute_result",
          "data": {
            "text/plain": [
              "[19, 29, 33, 37, 73, 80, 81, 92, 93, 95]"
            ]
          },
          "metadata": {},
          "execution_count": 4
        }
      ]
    }
  ]
}