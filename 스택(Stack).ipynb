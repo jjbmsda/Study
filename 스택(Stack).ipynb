{
  "nbformat": 4,
  "nbformat_minor": 0,
  "metadata": {
    "colab": {
      "name": "스택(Stack).ipynb",
      "provenance": [],
      "collapsed_sections": [],
      "authorship_tag": "ABX9TyPR+WkXUHt84QeNdnz5bKeF",
      "include_colab_link": true
    },
    "kernelspec": {
      "name": "python3",
      "display_name": "Python 3"
    },
    "language_info": {
      "name": "python"
    }
  },
  "cells": [
    {
      "cell_type": "markdown",
      "metadata": {
        "id": "view-in-github",
        "colab_type": "text"
      },
      "source": [
        "<a href=\"https://colab.research.google.com/github/jjbmsda/Study/blob/main/%EC%8A%A4%ED%83%9D(Stack).ipynb\" target=\"_parent\"><img src=\"https://colab.research.google.com/assets/colab-badge.svg\" alt=\"Open In Colab\"/></a>"
      ]
    },
    {
      "cell_type": "code",
      "metadata": {
        "id": "nwooUBhFztSG"
      },
      "source": [
        " def recursive(data):\n",
        "   if data < 0:\n",
        "     print(\"end\")\n",
        "   else:\n",
        "     print(data)\n",
        "     recursive(data-1)\n",
        "     print(\"returned\", data)"
      ],
      "execution_count": 1,
      "outputs": []
    },
    {
      "cell_type": "code",
      "metadata": {
        "colab": {
          "base_uri": "https://localhost:8080/"
        },
        "id": "QSv3RA8T4GzC",
        "outputId": "aab8328d-d444-47bd-8e86-59c582b13583"
      },
      "source": [
        "recursive(4)"
      ],
      "execution_count": 2,
      "outputs": [
        {
          "output_type": "stream",
          "name": "stdout",
          "text": [
            "4\n",
            "3\n",
            "2\n",
            "1\n",
            "0\n",
            "end\n",
            "returned 0\n",
            "returned 1\n",
            "returned 2\n",
            "returned 3\n",
            "returned 4\n"
          ]
        }
      ]
    },
    {
      "cell_type": "code",
      "metadata": {
        "id": "83OKepPG5Qfk"
      },
      "source": [
        "data_stack = list()\n",
        "\n",
        "data_stack.append(1)\n",
        "data_stack.append(2)"
      ],
      "execution_count": 3,
      "outputs": []
    },
    {
      "cell_type": "code",
      "metadata": {
        "colab": {
          "base_uri": "https://localhost:8080/"
        },
        "id": "RuMdP3ta56IZ",
        "outputId": "3a643bf0-d68e-499c-db9f-db847f893aae"
      },
      "source": [
        "data_stack"
      ],
      "execution_count": 4,
      "outputs": [
        {
          "output_type": "execute_result",
          "data": {
            "text/plain": [
              "[1, 2]"
            ]
          },
          "metadata": {},
          "execution_count": 4
        }
      ]
    },
    {
      "cell_type": "code",
      "metadata": {
        "colab": {
          "base_uri": "https://localhost:8080/"
        },
        "id": "FfyYYsNC58CF",
        "outputId": "86d799a4-0720-4b6c-f434-48095e066254"
      },
      "source": [
        "data_stack.pop()"
      ],
      "execution_count": 5,
      "outputs": [
        {
          "output_type": "execute_result",
          "data": {
            "text/plain": [
              "2"
            ]
          },
          "metadata": {},
          "execution_count": 5
        }
      ]
    },
    {
      "cell_type": "code",
      "metadata": {
        "id": "xTqdo5oF5-x2"
      },
      "source": [
        "stack_list = list()\n",
        "def push(data):\n",
        "  stack_list.append(data)\n",
        "\n",
        "def pop():\n",
        "  data = stack_list[-1]\n",
        "  del stack_list[-1]\n",
        "  return data"
      ],
      "execution_count": 6,
      "outputs": []
    },
    {
      "cell_type": "code",
      "metadata": {
        "id": "ez9uM1Gl6VCs"
      },
      "source": [
        "for index in range(10):\n",
        "  push(index)"
      ],
      "execution_count": 7,
      "outputs": []
    },
    {
      "cell_type": "code",
      "metadata": {
        "colab": {
          "base_uri": "https://localhost:8080/"
        },
        "id": "gRwv86ie6cdq",
        "outputId": "32e27545-a259-4974-e3a4-cf2d7f30c4d4"
      },
      "source": [
        "pop()"
      ],
      "execution_count": 8,
      "outputs": [
        {
          "output_type": "execute_result",
          "data": {
            "text/plain": [
              "9"
            ]
          },
          "metadata": {},
          "execution_count": 8
        }
      ]
    }
  ]
}