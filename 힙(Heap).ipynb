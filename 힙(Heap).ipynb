{
  "nbformat": 4,
  "nbformat_minor": 0,
  "metadata": {
    "colab": {
      "name": "힙(Heap).ipynb",
      "provenance": [],
      "collapsed_sections": [],
      "authorship_tag": "ABX9TyP4a/WhuGFDaE1pLGDKCim2",
      "include_colab_link": true
    },
    "kernelspec": {
      "name": "python3",
      "display_name": "Python 3"
    },
    "language_info": {
      "name": "python"
    }
  },
  "cells": [
    {
      "cell_type": "markdown",
      "metadata": {
        "id": "view-in-github",
        "colab_type": "text"
      },
      "source": [
        "<a href=\"https://colab.research.google.com/github/jjbmsda/Study/blob/main/%ED%9E%99(Heap).ipynb\" target=\"_parent\"><img src=\"https://colab.research.google.com/assets/colab-badge.svg\" alt=\"Open In Colab\"/></a>"
      ]
    },
    {
      "cell_type": "code",
      "metadata": {
        "colab": {
          "base_uri": "https://localhost:8080/"
        },
        "id": "nWzCqOj3b16I",
        "outputId": "8f25ca8a-af97-42df-e94b-9baf82eaf671"
      },
      "source": [
        "# 부모 노드 인덱스 번호 = 자식 노드 인덱스 번호 / 2\n",
        "# 노드의 왼쪽 자식 인덱스 번호 = 부모 노드 인덱스 번호 * 2\n",
        "# 노드의 오른쪽 자식 인덱스 번호 = 부모 노드 인덱스 번호 *2 +1\n",
        "\n",
        "4/2\n",
        "2*2\n",
        "2*2+1"
      ],
      "execution_count": 2,
      "outputs": [
        {
          "output_type": "execute_result",
          "data": {
            "text/plain": [
              "5"
            ]
          },
          "metadata": {},
          "execution_count": 2
        }
      ]
    },
    {
      "cell_type": "code",
      "metadata": {
        "id": "zpp6qubMlzmX"
      },
      "source": [
        "class Heap:\n",
        "  def __init__(self, data):\n",
        "    self.heap_array = list()\n",
        "    self.heap_array.append(None) # 시작 노드를 1로 하기 위해 None 설정\n",
        "    self.heap_array.append(data)"
      ],
      "execution_count": 6,
      "outputs": []
    },
    {
      "cell_type": "code",
      "metadata": {
        "colab": {
          "base_uri": "https://localhost:8080/"
        },
        "id": "3Q7HqR56mwqm",
        "outputId": "aae0d817-37c0-4bb9-fb94-8be506a3671c"
      },
      "source": [
        "heap = Heap(1)\n",
        "heap.heap_array"
      ],
      "execution_count": 7,
      "outputs": [
        {
          "output_type": "execute_result",
          "data": {
            "text/plain": [
              "[None, 1]"
            ]
          },
          "metadata": {},
          "execution_count": 7
        }
      ]
    },
    {
      "cell_type": "code",
      "metadata": {
        "id": "35BeHCpJnOeI"
      },
      "source": [
        "class Heap:\n",
        "  def __init__(self, data):\n",
        "    self.heap_array = list()\n",
        "    self.heap_array.append(None) # 시작 노드를 1로 하기 위해 None 설정\n",
        "    self.heap_array.append(data)\n",
        "  \n",
        "  def move_up(self, inserted_idx): # 신규 노드와 부모 노드 값 비교 후 변경 메서드\n",
        "    if inserted_idx <= 1: # 루트 노드여서 비교할 필요가 없음\n",
        "      return False \n",
        "\n",
        "    parent_idx = inserted_idx // 2 # 부모 노드의 인덱스 번호 확인\n",
        "    if self.heap_array[inserted_idx] > self.heap_array[parent_idx]: # 신규 노드 값이 부모 노드 값보다 크면\n",
        "      return True # 변경 실행\n",
        "    else: # 신규 노드 값이 부모 노드 값보다 작으면\n",
        "      return False # 변경할 필요 없음\n",
        "\n",
        "  def insert(self, data): # 데이터 추가 함수\n",
        "    if len(self.heap_array) == 0: # 힙이 비어있다면\n",
        "      self.heap_array.append(None) # 시작 노드를 1로 하기 위해 None 설정\n",
        "      self.heap_array.append(data) # 데이터 추가\n",
        "      return True\n",
        "    \n",
        "    self.heap_array.append(data) # 힙이 비어있지 않다면 데이터 추가\n",
        "\n",
        "    inserted_idx = len(self.heap_array)-1 # 추가된 데이터의 인덱스 번호\n",
        "\n",
        "    while self.move_up(inserted_idx): # 신규 노드 값이 부모 노드 값 보다 크면 위치를 바꿔야 함\n",
        "      parent_idx = inserted_idx //2 # 부모 노드의 인덱스 번호 확인\n",
        "      self.heap_array[inserted_idx], self.heap_array[parent_idx] = self.heap_array[parent_idx], self.heap_array[inserted_idx] # 부모 노드와 신규 노드의 값 변경\n",
        "      inserted_idx = parent_idx # 바뀐 위치에서 다시 부모노드와 비교를 위해 값 변경\n",
        "\n",
        "    return True\n",
        "\n",
        "  \n"
      ],
      "execution_count": null,
      "outputs": []
    }
  ]
}