{
  "nbformat": 4,
  "nbformat_minor": 0,
  "metadata": {
    "colab": {
      "name": "알고리즘 복잡도.ipynb",
      "provenance": [],
      "collapsed_sections": [],
      "authorship_tag": "ABX9TyOotuZB8bj01q+1ATqrL+iK",
      "include_colab_link": true
    },
    "kernelspec": {
      "name": "python3",
      "display_name": "Python 3"
    },
    "language_info": {
      "name": "python"
    }
  },
  "cells": [
    {
      "cell_type": "markdown",
      "metadata": {
        "id": "view-in-github",
        "colab_type": "text"
      },
      "source": [
        "<a href=\"https://colab.research.google.com/github/jjbmsda/Study/blob/main/%EC%95%8C%EA%B3%A0%EB%A6%AC%EC%A6%98_%EB%B3%B5%EC%9E%A1%EB%8F%84.ipynb\" target=\"_parent\"><img src=\"https://colab.research.google.com/assets/colab-badge.svg\" alt=\"Open In Colab\"/></a>"
      ]
    },
    {
      "cell_type": "code",
      "metadata": {
        "id": "QBiu8DGzll33"
      },
      "source": [
        " # 시간 복잡도 O(n) \n",
        " def sum_all(n):\n",
        "   total = 0\n",
        "   for num in range(1, n+1):\n",
        "     total += num\n",
        "   return total"
      ],
      "execution_count": 1,
      "outputs": []
    },
    {
      "cell_type": "code",
      "metadata": {
        "colab": {
          "base_uri": "https://localhost:8080/"
        },
        "id": "-6wm3L8XCd5b",
        "outputId": "aad1e8ce-d3c5-476b-c543-fd02c6629c04"
      },
      "source": [
        "sum_all(100)"
      ],
      "execution_count": 2,
      "outputs": [
        {
          "output_type": "execute_result",
          "data": {
            "text/plain": [
              "5050"
            ]
          },
          "metadata": {},
          "execution_count": 2
        }
      ]
    },
    {
      "cell_type": "code",
      "metadata": {
        "id": "9wD1Zd7VCggT"
      },
      "source": [
        "# 시간 복잡도 O(1)\n",
        "def sum_all(n):\n",
        "  return int(n*(n+1)/2)"
      ],
      "execution_count": 3,
      "outputs": []
    },
    {
      "cell_type": "code",
      "metadata": {
        "colab": {
          "base_uri": "https://localhost:8080/"
        },
        "id": "pfgasrzGCrq5",
        "outputId": "b26d35b6-2ed1-49d6-d529-db235c89c4b2"
      },
      "source": [
        "sum_all(100)"
      ],
      "execution_count": 4,
      "outputs": [
        {
          "output_type": "execute_result",
          "data": {
            "text/plain": [
              "5050"
            ]
          },
          "metadata": {},
          "execution_count": 4
        }
      ]
    },
    {
      "cell_type": "code",
      "metadata": {
        "id": "ULXAYS3cDBGs"
      },
      "source": [
        ""
      ],
      "execution_count": null,
      "outputs": []
    }
  ]
}