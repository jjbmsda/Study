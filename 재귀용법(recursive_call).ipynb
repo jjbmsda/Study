{
  "nbformat": 4,
  "nbformat_minor": 0,
  "metadata": {
    "colab": {
      "name": "재귀용법(recursive call).ipynb",
      "provenance": [],
      "collapsed_sections": [],
      "authorship_tag": "ABX9TyOnd82voKO+3TLQLCXUEBIv",
      "include_colab_link": true
    },
    "kernelspec": {
      "name": "python3",
      "display_name": "Python 3"
    },
    "language_info": {
      "name": "python"
    }
  },
  "cells": [
    {
      "cell_type": "markdown",
      "metadata": {
        "id": "view-in-github",
        "colab_type": "text"
      },
      "source": [
        "<a href=\"https://colab.research.google.com/github/jjbmsda/Study/blob/main/%EC%9E%AC%EA%B7%80%EC%9A%A9%EB%B2%95(recursive_call).ipynb\" target=\"_parent\"><img src=\"https://colab.research.google.com/assets/colab-badge.svg\" alt=\"Open In Colab\"/></a>"
      ]
    },
    {
      "cell_type": "code",
      "metadata": {
        "id": "pOR8llDalNB2"
      },
      "source": [
        "def factorial(num):\n",
        "  if num > 1:\n",
        "    return num * factorial(num-1)\n",
        "  else:\n",
        "    return num"
      ],
      "execution_count": 1,
      "outputs": []
    },
    {
      "cell_type": "code",
      "metadata": {
        "colab": {
          "base_uri": "https://localhost:8080/"
        },
        "id": "J7fI3zvalzW4",
        "outputId": "d59f8c75-19ac-4b3b-828c-4a7f02daf1f8"
      },
      "source": [
        "for num in range(10):\n",
        "  print(factorial(num))"
      ],
      "execution_count": 2,
      "outputs": [
        {
          "output_type": "stream",
          "name": "stdout",
          "text": [
            "0\n",
            "1\n",
            "2\n",
            "6\n",
            "24\n",
            "120\n",
            "720\n",
            "5040\n",
            "40320\n",
            "362880\n"
          ]
        }
      ]
    },
    {
      "cell_type": "code",
      "metadata": {
        "id": "NlhLQV0ll6mM"
      },
      "source": [
        "# 시간복잡도 : O(n)"
      ],
      "execution_count": null,
      "outputs": []
    },
    {
      "cell_type": "code",
      "metadata": {
        "id": "i9szSfyPnT2s"
      },
      "source": [
        "def multiple2(num):\n",
        "  return_value = 1\n",
        "  for index in range(1, num+1):\n",
        "    return_value = return_value * index\n",
        "  return return_value "
      ],
      "execution_count": 6,
      "outputs": []
    },
    {
      "cell_type": "code",
      "metadata": {
        "id": "h6SOgi0enzWJ"
      },
      "source": [
        "def multiple(num):\n",
        "  if num <= 1:\n",
        "    return num\n",
        "  return num * multiple(num-1)"
      ],
      "execution_count": 7,
      "outputs": []
    },
    {
      "cell_type": "code",
      "metadata": {
        "colab": {
          "base_uri": "https://localhost:8080/"
        },
        "id": "9GJ80aaeoGrD",
        "outputId": "e0bcd8da-8d29-4e4a-8413-60fedf4059bd"
      },
      "source": [
        "multiple(3)"
      ],
      "execution_count": 8,
      "outputs": [
        {
          "output_type": "execute_result",
          "data": {
            "text/plain": [
              "6"
            ]
          },
          "metadata": {},
          "execution_count": 8
        }
      ]
    },
    {
      "cell_type": "code",
      "metadata": {
        "colab": {
          "base_uri": "https://localhost:8080/"
        },
        "id": "gZemrEU5opbh",
        "outputId": "5b3da5a7-e7ec-4dd2-d3ea-c1ca42a52eed"
      },
      "source": [
        "import random\n",
        "\n",
        "data = random.sample(range(100),10)\n",
        "\n",
        "def sum_list(data):\n",
        "  if len(data) <= 1:\n",
        "    return data[0]\n",
        "  return data[0] + sum_list(data[1:])\n",
        "\n",
        "sum_list(data)"
      ],
      "execution_count": 10,
      "outputs": [
        {
          "output_type": "execute_result",
          "data": {
            "text/plain": [
              "440"
            ]
          },
          "metadata": {},
          "execution_count": 10
        }
      ]
    },
    {
      "cell_type": "code",
      "metadata": {
        "colab": {
          "base_uri": "https://localhost:8080/"
        },
        "id": "-zpeka6HqACl",
        "outputId": "85d01ddf-6be1-4382-be6c-6fb81714e500"
      },
      "source": [
        "def palindrome(string):\n",
        "  if len(string) <= 1:\n",
        "    return True\n",
        "\n",
        "  if string[0] == string[-1]:\n",
        "    return palindrome(string[1:-1])\n",
        "  else:\n",
        "    return False\n",
        "\n",
        "print(palindrome('level'))\n",
        "print(palindrome('love'))"
      ],
      "execution_count": 13,
      "outputs": [
        {
          "output_type": "stream",
          "name": "stdout",
          "text": [
            "True\n",
            "False\n"
          ]
        }
      ]
    },
    {
      "cell_type": "code",
      "metadata": {
        "colab": {
          "base_uri": "https://localhost:8080/"
        },
        "id": "87wOm3t_rkBn",
        "outputId": "e3b36752-935d-46c5-9fc8-ecd97421f56d"
      },
      "source": [
        "def func(n):\n",
        "  print(n)\n",
        "  if n == 1:\n",
        "    return n\n",
        "  \n",
        "  if n % 2 == 1:\n",
        "    return(func((3*n)+1))\n",
        "  else:\n",
        "    return(func(int(n/2)))\n",
        "\n",
        "func(3)"
      ],
      "execution_count": 17,
      "outputs": [
        {
          "output_type": "stream",
          "name": "stdout",
          "text": [
            "3\n",
            "10\n",
            "5\n",
            "16\n",
            "8\n",
            "4\n",
            "2\n",
            "1\n"
          ]
        },
        {
          "output_type": "execute_result",
          "data": {
            "text/plain": [
              "1"
            ]
          },
          "metadata": {},
          "execution_count": 17
        }
      ]
    },
    {
      "cell_type": "code",
      "metadata": {
        "colab": {
          "base_uri": "https://localhost:8080/"
        },
        "id": "st1pTd03tWXK",
        "outputId": "05014169-6ea1-4623-8a5b-81db489f673b"
      },
      "source": [
        "def func(data):\n",
        "  if data == 1:\n",
        "    return 1\n",
        "  elif data == 2:\n",
        "    return 2\n",
        "  elif data == 3:\n",
        "    return 4\n",
        "\n",
        "  return func(data-1) + func(data-2) + func(data-3)\n",
        "\n",
        "func(5)"
      ],
      "execution_count": 19,
      "outputs": [
        {
          "output_type": "execute_result",
          "data": {
            "text/plain": [
              "13"
            ]
          },
          "metadata": {},
          "execution_count": 19
        }
      ]
    }
  ]
}