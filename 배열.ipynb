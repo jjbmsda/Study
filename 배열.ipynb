{
  "nbformat": 4,
  "nbformat_minor": 0,
  "metadata": {
    "colab": {
      "name": "배열.ipynb",
      "provenance": [],
      "authorship_tag": "ABX9TyPz41pCZb2cDcrhGaH0A7Ap",
      "include_colab_link": true
    },
    "kernelspec": {
      "name": "python3",
      "display_name": "Python 3"
    },
    "language_info": {
      "name": "python"
    }
  },
  "cells": [
    {
      "cell_type": "markdown",
      "metadata": {
        "id": "view-in-github",
        "colab_type": "text"
      },
      "source": [
        "<a href=\"https://colab.research.google.com/github/jjbmsda/Study/blob/main/%EB%B0%B0%EC%97%B4.ipynb\" target=\"_parent\"><img src=\"https://colab.research.google.com/assets/colab-badge.svg\" alt=\"Open In Colab\"/></a>"
      ]
    },
    {
      "cell_type": "code",
      "metadata": {
        "colab": {
          "base_uri": "https://localhost:8080/"
        },
        "id": "ORlafIENnu9O",
        "outputId": "7ee2d842-f13c-405d-e7ca-1d255e810cff"
      },
      "source": [
        "data =[1,2,3,4,5]\n",
        "print(data)"
      ],
      "execution_count": 3,
      "outputs": [
        {
          "output_type": "stream",
          "name": "stdout",
          "text": [
            "[1, 2, 3, 4, 5]\n"
          ]
        }
      ]
    },
    {
      "cell_type": "code",
      "metadata": {
        "colab": {
          "base_uri": "https://localhost:8080/"
        },
        "id": "SZWHzcGppzXw",
        "outputId": "07801328-b9da-4cf1-d828-457f22f30ccc"
      },
      "source": [
        "data = [[1,2,3],[4,5,6],[7,8,9]]\n",
        "data"
      ],
      "execution_count": 5,
      "outputs": [
        {
          "output_type": "execute_result",
          "data": {
            "text/plain": [
              "[[1, 2, 3], [4, 5, 6], [7, 8, 9]]"
            ]
          },
          "metadata": {},
          "execution_count": 5
        }
      ]
    },
    {
      "cell_type": "code",
      "metadata": {
        "colab": {
          "base_uri": "https://localhost:8080/"
        },
        "id": "lot2y5LJodyq",
        "outputId": "c450e3d0-3045-4367-9e97-f7c5e721050e"
      },
      "source": [
        "print(data[0])"
      ],
      "execution_count": 6,
      "outputs": [
        {
          "output_type": "stream",
          "name": "stdout",
          "text": [
            "[1, 2, 3]\n"
          ]
        }
      ]
    },
    {
      "cell_type": "code",
      "metadata": {
        "colab": {
          "base_uri": "https://localhost:8080/"
        },
        "id": "EN44KtMfsoVr",
        "outputId": "26fa850f-3fae-4f39-803e-dc8408500ef2"
      },
      "source": [
        "print(data[0][0])\n",
        "print(data[0][1])\n",
        "print(data[0][2])\n",
        "print(data[1][0])\n"
      ],
      "execution_count": 7,
      "outputs": [
        {
          "output_type": "stream",
          "name": "stdout",
          "text": [
            "1\n",
            "2\n",
            "3\n",
            "4\n"
          ]
        }
      ]
    },
    {
      "cell_type": "code",
      "metadata": {
        "colab": {
          "base_uri": "https://localhost:8080/"
        },
        "id": "YOAxfM-osyY_",
        "outputId": "2652c2fc-c28a-4bd1-aebe-a36a09f63d10"
      },
      "source": [
        "print(data[2][2])\n",
        "print(data[2][1])\n",
        "print(data[2][0])\n"
      ],
      "execution_count": 8,
      "outputs": [
        {
          "output_type": "stream",
          "name": "stdout",
          "text": [
            "9\n",
            "8\n",
            "7\n"
          ]
        }
      ]
    },
    {
      "cell_type": "code",
      "metadata": {
        "id": "iQrpr07Us6vy"
      },
      "source": [
        "  dataset = ['Braund, Mr. Owen Harris',\n",
        "'Cumings, Mrs. John Bradley (Florence Briggs Thayer)',\n",
        "'Heikkinen, Miss. Laina',\n",
        "'Futrelle, Mrs. Jacques Heath (Lily May Peel)',\n",
        "'Allen, Mr. William Henry',\n",
        "'Moran, Mr. James',\n",
        "'McCarthy, Mr. Timothy J',\n",
        "'Palsson, Master. Gosta Leonard',\n",
        "'Johnson, Mrs. Oscar W (Elisabeth Vilhelmina Berg)',\n",
        "'Nasser, Mrs. Nicholas (Adele Achem)',\n",
        "'Sandstrom, Miss. Marguerite Rut',\n",
        "'Bonnell, Miss. Elizabeth',\n",
        "'Saundercock, Mr. William Henry',\n",
        "'Andersson, Mr. Anders Johan',\n",
        "'Vestrom, Miss. Hulda Amanda Adolfina',\n",
        "'Hewlett, Mrs. (Mary D Kingcome) ',\n",
        "'Rice, Master. Eugene',\n",
        "'Williams, Mr. Charles Eugene',\n",
        "'Vander Planke, Mrs. Julius (Emelia Maria Vandemoortele)',\n",
        "'Masselmani, Mrs. Fatima',\n",
        "'Fynney, Mr. Joseph J',\n",
        "'Beesley, Mr. Lawrence',\n",
        "'McGowan, Miss. Anna \"Annie\"',\n",
        "'Sloper, Mr. William Thompson',\n",
        "'Palsson, Miss. Torborg Danira',\n",
        "'Asplund, Mrs. Carl Oscar (Selma Augusta Emilia Johansson)',\n",
        "'Emir, Mr. Farred Chehab',\n",
        "'Fortune, Mr. Charles Alexander',\n",
        "'Dwyer, Miss. Ellen \"Nellie\"',\n",
        "'Todoroff, Mr. Lalio']"
      ],
      "execution_count": 9,
      "outputs": []
    },
    {
      "cell_type": "code",
      "metadata": {
        "colab": {
          "base_uri": "https://localhost:8080/"
        },
        "id": "0kcJchsMudvo",
        "outputId": "9ea95969-4cd0-42fd-f623-9e7a8cc9e6b7"
      },
      "source": [
        "m_count = 0\n",
        "for data in dataset:\n",
        "  for index in range(len(data)):\n",
        "    if (data[index]) == 'M':\n",
        "      m_count += 1\n",
        "\n",
        "print(m_count)"
      ],
      "execution_count": 11,
      "outputs": [
        {
          "output_type": "stream",
          "name": "stdout",
          "text": [
            "38\n"
          ]
        }
      ]
    }
  ]
}