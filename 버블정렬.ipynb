{
  "nbformat": 4,
  "nbformat_minor": 0,
  "metadata": {
    "colab": {
      "name": "버블정렬.ipynb",
      "provenance": [],
      "collapsed_sections": [],
      "authorship_tag": "ABX9TyMN/YrHjkZJhR5K6WAivLnc",
      "include_colab_link": true
    },
    "kernelspec": {
      "name": "python3",
      "display_name": "Python 3"
    },
    "language_info": {
      "name": "python"
    }
  },
  "cells": [
    {
      "cell_type": "markdown",
      "metadata": {
        "id": "view-in-github",
        "colab_type": "text"
      },
      "source": [
        "<a href=\"https://colab.research.google.com/github/jjbmsda/Study/blob/main/%EB%B2%84%EB%B8%94%EC%A0%95%EB%A0%AC.ipynb\" target=\"_parent\"><img src=\"https://colab.research.google.com/assets/colab-badge.svg\" alt=\"Open In Colab\"/></a>"
      ]
    },
    {
      "cell_type": "code",
      "metadata": {
        "id": "VUy_T5QIPeVS"
      },
      "source": [
        "def bubblesort(data):\n",
        "  for index in range(len(data)-1): # 전체 턴은 데이터 길이보다 한번 적게 수행 (데이터가 4개이면 3번 조건체크)\n",
        "    swap = False # 스왑 여부 체크\n",
        "    for index2 in range(len(data)-index-1): # 턴의 횟수가 늘어날때마다 비교 횟수는 1씩 감소 \n",
        "      if data[index2] > data[index2+1]: # 앞데이터가 뒤데이터보다 크다면\n",
        "        data[index2], data[index2+1] = data[index2+1], data[index2] #스왑 진행\n",
        "        swap = True # 스왑값을 True 로 변경\n",
        "\n",
        "    if swap == False: # 스왑이 없을경우 (정렬되었다는 뜻)\n",
        "      break # 종료\n",
        "  return data"
      ],
      "execution_count": 1,
      "outputs": []
    },
    {
      "cell_type": "code",
      "metadata": {
        "colab": {
          "base_uri": "https://localhost:8080/"
        },
        "id": "KihQ1llWUgF0",
        "outputId": "51ba3502-13c5-493b-f05c-84384caa0d16"
      },
      "source": [
        "import random\n",
        "\n",
        "data_list = random.sample(range(100),50) # 0부터 99까지 숫자중에 50개를 추출\n",
        "bubblesort(data_list)"
      ],
      "execution_count": 2,
      "outputs": [
        {
          "output_type": "execute_result",
          "data": {
            "text/plain": [
              "[2,\n",
              " 9,\n",
              " 11,\n",
              " 15,\n",
              " 19,\n",
              " 22,\n",
              " 24,\n",
              " 25,\n",
              " 27,\n",
              " 28,\n",
              " 30,\n",
              " 32,\n",
              " 33,\n",
              " 34,\n",
              " 36,\n",
              " 37,\n",
              " 39,\n",
              " 40,\n",
              " 42,\n",
              " 45,\n",
              " 46,\n",
              " 48,\n",
              " 49,\n",
              " 50,\n",
              " 51,\n",
              " 54,\n",
              " 57,\n",
              " 58,\n",
              " 59,\n",
              " 61,\n",
              " 64,\n",
              " 65,\n",
              " 68,\n",
              " 69,\n",
              " 70,\n",
              " 71,\n",
              " 73,\n",
              " 74,\n",
              " 77,\n",
              " 78,\n",
              " 79,\n",
              " 80,\n",
              " 82,\n",
              " 85,\n",
              " 87,\n",
              " 88,\n",
              " 91,\n",
              " 95,\n",
              " 98,\n",
              " 99]"
            ]
          },
          "metadata": {},
          "execution_count": 2
        }
      ]
    },
    {
      "cell_type": "code",
      "metadata": {
        "id": "_IgUQdxLWWTF"
      },
      "source": [
        "# 버블정렬의 시간 복잡도\n",
        "# 반복문이 2개이기 때문에 O(n2)\n",
        "# 완전 정렬이 되어있는 상태라면 O(n) : 최초 반복1회 후 종료"
      ],
      "execution_count": null,
      "outputs": []
    }
  ]
}