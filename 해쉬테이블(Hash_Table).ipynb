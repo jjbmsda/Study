{
  "nbformat": 4,
  "nbformat_minor": 0,
  "metadata": {
    "colab": {
      "name": "해쉬테이블(Hash Table).ipynb",
      "provenance": [],
      "collapsed_sections": [],
      "authorship_tag": "ABX9TyPNLD78VD4vl5kqXj6mVMc9",
      "include_colab_link": true
    },
    "kernelspec": {
      "name": "python3",
      "display_name": "Python 3"
    },
    "language_info": {
      "name": "python"
    }
  },
  "cells": [
    {
      "cell_type": "markdown",
      "metadata": {
        "id": "view-in-github",
        "colab_type": "text"
      },
      "source": [
        "<a href=\"https://colab.research.google.com/github/jjbmsda/Study/blob/main/%ED%95%B4%EC%89%AC%ED%85%8C%EC%9D%B4%EB%B8%94(Hash_Table).ipynb\" target=\"_parent\"><img src=\"https://colab.research.google.com/assets/colab-badge.svg\" alt=\"Open In Colab\"/></a>"
      ]
    },
    {
      "cell_type": "code",
      "metadata": {
        "colab": {
          "base_uri": "https://localhost:8080/"
        },
        "id": "q_PVxL1gDfX3",
        "outputId": "76e545c8-a3f8-4a4d-a863-b27ea07d1db0"
      },
      "source": [
        "hash_table = list([0 for i in range(10)])\n",
        "hash_table"
      ],
      "execution_count": 2,
      "outputs": [
        {
          "output_type": "execute_result",
          "data": {
            "text/plain": [
              "[0, 0, 0, 0, 0, 0, 0, 0, 0, 0]"
            ]
          },
          "metadata": {},
          "execution_count": 2
        }
      ]
    },
    {
      "cell_type": "code",
      "metadata": {
        "id": "GRnwttPSFWNN"
      },
      "source": [
        "def hash_func(key):\n",
        "  return key % 5\n"
      ],
      "execution_count": 3,
      "outputs": []
    },
    {
      "cell_type": "code",
      "metadata": {
        "colab": {
          "base_uri": "https://localhost:8080/"
        },
        "id": "ZdYsFYHOFhwO",
        "outputId": "3b626072-b300-4744-d88b-f9163e579787"
      },
      "source": [
        "data1 = 'Andy'\n",
        "data2 = 'Dave'\n",
        "data3 = 'Trump'\n",
        "\n",
        "# ord() : 문자의 ASCII(아스키) 코드 리턴\n",
        "print(ord(data1[0]),ord(data2[0]),ord(data3[0]))\n",
        "print(ord(data1[0]),hash_func(ord(data1[0])))"
      ],
      "execution_count": 6,
      "outputs": [
        {
          "output_type": "stream",
          "name": "stdout",
          "text": [
            "65 68 84\n",
            "65 0\n"
          ]
        }
      ]
    },
    {
      "cell_type": "code",
      "metadata": {
        "id": "dfGcfqdIGPVz"
      },
      "source": [
        "def storage_data(data, value):\n",
        "  key = ord(data[0])\n",
        "  hash_address = hash_func(key)\n",
        "  hash_table[hash_address] = value"
      ],
      "execution_count": 7,
      "outputs": []
    },
    {
      "cell_type": "code",
      "metadata": {
        "id": "e76zgZO7GkTq"
      },
      "source": [
        "storage_data('Andy', '01012341234')\n",
        "storage_data('Dave', '01012341247')\n",
        "storage_data('Trump', '01012345959')"
      ],
      "execution_count": 8,
      "outputs": []
    },
    {
      "cell_type": "code",
      "metadata": {
        "id": "RRKTl_0lG4uN"
      },
      "source": [
        "def get_data(data):\n",
        "  key = ord(data[0])\n",
        "  hash_address = hash_func(key)\n",
        "  return hash_table[hash_address]"
      ],
      "execution_count": 9,
      "outputs": []
    },
    {
      "cell_type": "code",
      "metadata": {
        "colab": {
          "base_uri": "https://localhost:8080/",
          "height": 35
        },
        "id": "Lh9FkQXMHL4R",
        "outputId": "84306d09-a4ff-46ba-b404-765e5eabd5f2"
      },
      "source": [
        "get_data('Andy')"
      ],
      "execution_count": 10,
      "outputs": [
        {
          "output_type": "execute_result",
          "data": {
            "application/vnd.google.colaboratory.intrinsic+json": {
              "type": "string"
            },
            "text/plain": [
              "'01012341234'"
            ]
          },
          "metadata": {},
          "execution_count": 10
        }
      ]
    },
    {
      "cell_type": "code",
      "metadata": {
        "id": "OE9C3JhXI4Qh"
      },
      "source": [
        "hash_table = list([0 for i in range(8)])\n",
        "\n",
        "def get_key(data):\n",
        "  return hash(data)\n",
        "\n",
        "def hash_function(key):\n",
        "  return key % 8\n",
        "\n",
        "def save_data(data, value):\n",
        "  hash_address = hash_function(get_key(data))\n",
        "  hash_table[hash_address] = value\n",
        "\n",
        "def read_data(data):\n",
        "  hash_address = hash_function(get_key(data))\n",
        "  return hash_table[hash_address]"
      ],
      "execution_count": 11,
      "outputs": []
    },
    {
      "cell_type": "code",
      "metadata": {
        "colab": {
          "base_uri": "https://localhost:8080/",
          "height": 35
        },
        "id": "KklQofvAJjpg",
        "outputId": "b84baa55-89f3-48d4-987c-346ac1f368a7"
      },
      "source": [
        "save_data('Andy', '01012341234')\n",
        "save_data('Dave', '01012341247')\n",
        "save_data('Trump', '01012345959')\n",
        "\n",
        "read_data('Dave')"
      ],
      "execution_count": 12,
      "outputs": [
        {
          "output_type": "execute_result",
          "data": {
            "application/vnd.google.colaboratory.intrinsic+json": {
              "type": "string"
            },
            "text/plain": [
              "'01012341247'"
            ]
          },
          "metadata": {},
          "execution_count": 12
        }
      ]
    },
    {
      "cell_type": "code",
      "metadata": {
        "colab": {
          "base_uri": "https://localhost:8080/"
        },
        "id": "k4NRE029JwEj",
        "outputId": "34ffabe7-9f52-4b3c-c48a-b47cbd508e5e"
      },
      "source": [
        "hash_table"
      ],
      "execution_count": 13,
      "outputs": [
        {
          "output_type": "execute_result",
          "data": {
            "text/plain": [
              "[0, 0, 0, 0, 0, '01012341247', '01012341234', '01012345959']"
            ]
          },
          "metadata": {},
          "execution_count": 13
        }
      ]
    },
    {
      "cell_type": "code",
      "metadata": {
        "id": "2JGm6AeaNsnQ"
      },
      "source": [
        "### Chaining 기법"
      ],
      "execution_count": 27,
      "outputs": []
    },
    {
      "cell_type": "code",
      "metadata": {
        "id": "HYV3uxUPKIlO"
      },
      "source": [
        "hash_table = list([0 for i in range(8)])\n",
        "\n",
        "def get_key(data):\n",
        "  return hash(data)\n",
        "\n",
        "def hash_function(key):\n",
        "  return key % 8\n",
        "\n",
        "def save_data(data, value):\n",
        "  index_key = get_key(data)\n",
        "  hash_address = hash_function(index_key)\n",
        "\n",
        "  if hash_table[hash_address] != 0:\n",
        "    for index in range(len(hash_table[hash_address])):\n",
        "      if hash_table[hash_address][index][0] == index_key:\n",
        "         hash_table[hash_address][index][1] = value\n",
        "         return\n",
        "    hash_table[hash_address].append([index_key,value])\n",
        "  else:\n",
        "    hash_table[hash_address] = [[index_key, value]]\n",
        "\n",
        "\n",
        "def read_data(data):\n",
        "  index_key = get_key(data)\n",
        "  hash_address = hash_function(index_key)\n",
        "  if hash_table[hash_address] != 0:\n",
        "    for index in range(len(hash_table[hash_address])):\n",
        "      if hash_table[hash_address][index][0] == index_key:\n",
        "         return hash_table[hash_address][index][1]\n",
        "    return None\n",
        "  else:\n",
        "    return None"
      ],
      "execution_count": 25,
      "outputs": []
    },
    {
      "cell_type": "code",
      "metadata": {
        "colab": {
          "base_uri": "https://localhost:8080/"
        },
        "id": "UTVQXV8PMT6p",
        "outputId": "12d3cc66-fcc5-4625-c3fd-772cba0aa604"
      },
      "source": [
        "print(hash('Df')%8)\n",
        "print(hash('Data')%8)"
      ],
      "execution_count": 20,
      "outputs": [
        {
          "output_type": "stream",
          "name": "stdout",
          "text": [
            "1\n",
            "1\n"
          ]
        }
      ]
    },
    {
      "cell_type": "code",
      "metadata": {
        "colab": {
          "base_uri": "https://localhost:8080/",
          "height": 35
        },
        "id": "Xnpe_DaoMzmm",
        "outputId": "5c8d284c-4022-46ef-c009-9f5bff9de612"
      },
      "source": [
        "save_data('Df', '01012341234')\n",
        "save_data('Data', '01012341247')\n",
        "read_data('Df')"
      ],
      "execution_count": 26,
      "outputs": [
        {
          "output_type": "execute_result",
          "data": {
            "application/vnd.google.colaboratory.intrinsic+json": {
              "type": "string"
            },
            "text/plain": [
              "'01012341234'"
            ]
          },
          "metadata": {},
          "execution_count": 26
        }
      ]
    },
    {
      "cell_type": "code",
      "metadata": {
        "id": "-y_KCPoNNxX7"
      },
      "source": [
        "### Linear Probing 기법"
      ],
      "execution_count": null,
      "outputs": []
    },
    {
      "cell_type": "code",
      "metadata": {
        "id": "kwi8j78hN9T6"
      },
      "source": [
        "hash_table = list([0 for i in range(8)])\n",
        "\n",
        "def get_key(data):\n",
        "  return hash(data)\n",
        "\n",
        "def hash_function(key):\n",
        "  return key % 8\n",
        "\n",
        "def save_data(data, value):\n",
        "  index_key = get_key(data)\n",
        "  hash_address = hash_function(index_key)\n",
        "\n",
        "  if hash_table[hash_address] != 0:\n",
        "    for index in range(hash_address, len(hash_table)):\n",
        "      if hash_table[index] == 0:\n",
        "         hash_table[index] = [index_key, value]\n",
        "         return\n",
        "      elif hash_table[index][0] == index_key:\n",
        "        hash_table[index][1] = value\n",
        "        return   \n",
        "  else:\n",
        "    hash_table[hash_address] = [index_key, value]\n",
        "\n",
        "def read_data(data):\n",
        "  index_key = get_key(data)\n",
        "  hash_address = hash_function(index_key)\n",
        "  if hash_table[hash_address] != 0:\n",
        "    for index in range(hash_address, len(hash_table)):\n",
        "      if hash_table[index] == 0:\n",
        "         return None\n",
        "      elif hash_table[index][0] == index_key:\n",
        "         return hash_table[index][1]\n",
        "  else:\n",
        "    return None"
      ],
      "execution_count": 30,
      "outputs": []
    },
    {
      "cell_type": "code",
      "metadata": {
        "colab": {
          "base_uri": "https://localhost:8080/",
          "height": 35
        },
        "id": "DUEBdZV1QFPb",
        "outputId": "5188a0f1-eb88-4558-d5ee-db15679726fc"
      },
      "source": [
        "save_data('Df', '01012341234')\n",
        "save_data('Data', '01012341247')\n",
        "read_data('Df')"
      ],
      "execution_count": 31,
      "outputs": [
        {
          "output_type": "execute_result",
          "data": {
            "application/vnd.google.colaboratory.intrinsic+json": {
              "type": "string"
            },
            "text/plain": [
              "'01012341234'"
            ]
          },
          "metadata": {},
          "execution_count": 31
        }
      ]
    },
    {
      "cell_type": "code",
      "metadata": {
        "id": "IZpw5JoGQWnI"
      },
      "source": [
        "### SHA-1"
      ],
      "execution_count": 32,
      "outputs": []
    },
    {
      "cell_type": "code",
      "metadata": {
        "colab": {
          "base_uri": "https://localhost:8080/"
        },
        "id": "5ITSIt3CQ2eo",
        "outputId": "a1c09e53-94cc-45d5-db59-ca37b61c96ad"
      },
      "source": [
        "import hashlib\n",
        "\n",
        "data = 'test'.encode()\n",
        "hash_object = hashlib.sha1()\n",
        "hash_object.update(data)\n",
        "hex_dig = hash_object.hexdigest()\n",
        "print(hex_dig)"
      ],
      "execution_count": 35,
      "outputs": [
        {
          "output_type": "stream",
          "name": "stdout",
          "text": [
            "a94a8fe5ccb19ba61c4c0873d391e987982fbbd3\n"
          ]
        }
      ]
    },
    {
      "cell_type": "code",
      "metadata": {
        "id": "wAO4CxsSRZQ4"
      },
      "source": [
        "### SHA-256"
      ],
      "execution_count": null,
      "outputs": []
    },
    {
      "cell_type": "code",
      "metadata": {
        "colab": {
          "base_uri": "https://localhost:8080/"
        },
        "id": "vBC6XdMYRbAA",
        "outputId": "38ba4a4b-74aa-4360-dd55-df9c12dbc984"
      },
      "source": [
        "import hashlib\n",
        "\n",
        "data = 'test'.encode()\n",
        "hash_object = hashlib.sha256()\n",
        "hash_object.update(data)\n",
        "hex_dig = hash_object.hexdigest()\n",
        "print(hex_dig)"
      ],
      "execution_count": 36,
      "outputs": [
        {
          "output_type": "stream",
          "name": "stdout",
          "text": [
            "9f86d081884c7d659a2feaa0c55ad015a3bf4f1b2b0b822cd15d6c15b0f00a08\n"
          ]
        }
      ]
    },
    {
      "cell_type": "code",
      "metadata": {
        "id": "tFI-szfJRpG5"
      },
      "source": [
        "import hashlib\n",
        "\n",
        "hash_table = list([0 for i in range(8)])\n",
        "\n",
        "def get_key(data):\n",
        "  hash_object = hashlib.sha256()\n",
        "  hash_object.update(data.encode())\n",
        "  hex_dig = hash_object.hexdigest()\n",
        "  return int(hex_dig,16)\n",
        "\n",
        "def hash_function(key):\n",
        "  return key % 8\n",
        "\n",
        "def save_data(data, value):\n",
        "  index_key = get_key(data)\n",
        "  hash_address = hash_function(index_key)\n",
        "\n",
        "  if hash_table[hash_address] != 0:\n",
        "    for index in range(hash_address, len(hash_table)):\n",
        "      if hash_table[index] == 0:\n",
        "         hash_table[index] = [index_key, value]\n",
        "         return\n",
        "      elif hash_table[index][0] == index_key:\n",
        "        hash_table[index][1] = value\n",
        "        return   \n",
        "  else:\n",
        "    hash_table[hash_address] = [index_key, value]\n",
        "\n",
        "def read_data(data):\n",
        "  index_key = get_key(data)\n",
        "  hash_address = hash_function(index_key)\n",
        "  if hash_table[hash_address] != 0:\n",
        "    for index in range(hash_address, len(hash_table)):\n",
        "      if hash_table[index] == 0:\n",
        "         return None\n",
        "      elif hash_table[index][0] == index_key:\n",
        "         return hash_table[index][1]\n",
        "  else:\n",
        "    return None"
      ],
      "execution_count": 37,
      "outputs": []
    },
    {
      "cell_type": "code",
      "metadata": {
        "colab": {
          "base_uri": "https://localhost:8080/"
        },
        "id": "b8WSi2wmSEb6",
        "outputId": "bbd77247-7624-405a-d5c4-3925da1d3446"
      },
      "source": [
        "print(get_key('as')%8)\n",
        "print(get_key('ae')%8)"
      ],
      "execution_count": 39,
      "outputs": [
        {
          "output_type": "stream",
          "name": "stdout",
          "text": [
            "0\n",
            "0\n"
          ]
        }
      ]
    },
    {
      "cell_type": "code",
      "metadata": {
        "colab": {
          "base_uri": "https://localhost:8080/",
          "height": 35
        },
        "id": "x2Ot0AV9SRPa",
        "outputId": "bea8402b-9354-47ab-c6bb-eb874e9d17c0"
      },
      "source": [
        "save_data('as', '010123412343434')\n",
        "save_data('ae', '010123412475656')\n",
        "read_data('as')"
      ],
      "execution_count": 40,
      "outputs": [
        {
          "output_type": "execute_result",
          "data": {
            "application/vnd.google.colaboratory.intrinsic+json": {
              "type": "string"
            },
            "text/plain": [
              "'010123412343434'"
            ]
          },
          "metadata": {},
          "execution_count": 40
        }
      ]
    }
  ]
}