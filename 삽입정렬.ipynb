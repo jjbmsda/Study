{
  "nbformat": 4,
  "nbformat_minor": 0,
  "metadata": {
    "colab": {
      "name": "삽입정렬.ipynb",
      "provenance": [],
      "collapsed_sections": [],
      "authorship_tag": "ABX9TyNgFyMys4tnJwBYNfeFLC9T",
      "include_colab_link": true
    },
    "kernelspec": {
      "name": "python3",
      "display_name": "Python 3"
    },
    "language_info": {
      "name": "python"
    }
  },
  "cells": [
    {
      "cell_type": "markdown",
      "metadata": {
        "id": "view-in-github",
        "colab_type": "text"
      },
      "source": [
        "<a href=\"https://colab.research.google.com/github/jjbmsda/Study/blob/main/%EC%82%BD%EC%9E%85%EC%A0%95%EB%A0%AC.ipynb\" target=\"_parent\"><img src=\"https://colab.research.google.com/assets/colab-badge.svg\" alt=\"Open In Colab\"/></a>"
      ]
    },
    {
      "cell_type": "code",
      "metadata": {
        "id": "rqeHlNhpaGc0"
      },
      "source": [
        "def insertion_sort(data):\n",
        "  for index in range(len(data) -1):\n",
        "    for index2 in range(index+1, 0, -1): # 기준값 보다 1 뒤의 값부터 앞으로 줄여나가면서 비교\n",
        "      if data[index2] < data[index2 - 1]: # 뒤의 값이 앞의 값보다 크면\n",
        "        data[index2], data[index2 - 1] = data[index2 - 1], data[index2] # 변경\n",
        "      else:\n",
        "        break\n",
        "  return data"
      ],
      "execution_count": 3,
      "outputs": []
    },
    {
      "cell_type": "code",
      "metadata": {
        "colab": {
          "base_uri": "https://localhost:8080/"
        },
        "id": "w-goQiT3i80A",
        "outputId": "e2c07471-d2b2-4aab-882f-9d58f1da03c7"
      },
      "source": [
        "import random\n",
        "\n",
        "data_list = random.sample(range(100),10)\n",
        "insertion_sort(data_list)"
      ],
      "execution_count": 4,
      "outputs": [
        {
          "output_type": "execute_result",
          "data": {
            "text/plain": [
              "[20, 24, 25, 30, 31, 33, 36, 61, 74, 98]"
            ]
          },
          "metadata": {},
          "execution_count": 4
        }
      ]
    },
    {
      "cell_type": "code",
      "metadata": {
        "id": "ZFJs0qxtjBMG"
      },
      "source": [
        "# 삽입정렬의 시간복잡도 : O(n2)\n",
        "# 완전정렬이 되어있는 경우 : O(n)"
      ],
      "execution_count": 5,
      "outputs": []
    }
  ]
}