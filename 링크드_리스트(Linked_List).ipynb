{
  "nbformat": 4,
  "nbformat_minor": 0,
  "metadata": {
    "colab": {
      "name": "링크드 리스트(Linked List).ipynb",
      "provenance": [],
      "collapsed_sections": [],
      "authorship_tag": "ABX9TyOZUzeFAJpkQsvak16l0fM+",
      "include_colab_link": true
    },
    "kernelspec": {
      "name": "python3",
      "display_name": "Python 3"
    },
    "language_info": {
      "name": "python"
    }
  },
  "cells": [
    {
      "cell_type": "markdown",
      "metadata": {
        "id": "view-in-github",
        "colab_type": "text"
      },
      "source": [
        "<a href=\"https://colab.research.google.com/github/jjbmsda/Study/blob/main/%EB%A7%81%ED%81%AC%EB%93%9C_%EB%A6%AC%EC%8A%A4%ED%8A%B8(Linked_List).ipynb\" target=\"_parent\"><img src=\"https://colab.research.google.com/assets/colab-badge.svg\" alt=\"Open In Colab\"/></a>"
      ]
    },
    {
      "cell_type": "code",
      "metadata": {
        "id": "8AfAbJLbtLmI"
      },
      "source": [
        "class Node:\n",
        "  def __init__(self,data):\n",
        "    self.data = data\n",
        "    self.next = None"
      ],
      "execution_count": 1,
      "outputs": []
    },
    {
      "cell_type": "code",
      "metadata": {
        "id": "C9TWVyamwAdS"
      },
      "source": [
        " class Node:\n",
        "   def __init__(self, data, next=Node):\n",
        "     self.data = data\n",
        "     self.next = next"
      ],
      "execution_count": 2,
      "outputs": []
    },
    {
      "cell_type": "code",
      "metadata": {
        "id": "5--d8eNmwa6T"
      },
      "source": [
        "node1 = Node(1)\n",
        "node2 = Node(2)\n",
        "node1.next = node2\n",
        "head = node1\n"
      ],
      "execution_count": 3,
      "outputs": []
    },
    {
      "cell_type": "code",
      "metadata": {
        "id": "JY_XP70lwo3-"
      },
      "source": [
        "class Node:\n",
        "  def __init__(self, data, next=None):\n",
        "    self.data = data\n",
        "    self.next = next\n",
        "  def add(data):\n",
        "    node = head\n",
        "    while node.next:\n",
        "      node = node.next\n",
        "    node.next = Node(data)"
      ],
      "execution_count": 6,
      "outputs": []
    },
    {
      "cell_type": "code",
      "metadata": {
        "id": "d3C0nFTFxLqx"
      },
      "source": [
        "node1 = Node(1)\n",
        "head = node1\n",
        "\n",
        "for index in range(2,10):\n",
        "  Node.add(index)"
      ],
      "execution_count": 8,
      "outputs": []
    },
    {
      "cell_type": "code",
      "metadata": {
        "colab": {
          "base_uri": "https://localhost:8080/"
        },
        "id": "LgTBHdBPx0YJ",
        "outputId": "0a4fa3d9-1135-4a5f-fbca-f46f4711b715"
      },
      "source": [
        "node = head\n",
        "while node.next:\n",
        "  print(node.data)\n",
        "  node = node.next\n",
        "print(node.data)"
      ],
      "execution_count": 9,
      "outputs": [
        {
          "output_type": "stream",
          "name": "stdout",
          "text": [
            "1\n",
            "2\n",
            "3\n",
            "4\n",
            "5\n",
            "6\n",
            "7\n",
            "8\n",
            "9\n"
          ]
        }
      ]
    },
    {
      "cell_type": "code",
      "metadata": {
        "id": "GOhXYNilyzw8"
      },
      "source": [
        "node3 = Node(1.5)"
      ],
      "execution_count": 11,
      "outputs": []
    },
    {
      "cell_type": "code",
      "metadata": {
        "id": "rwQHoeIfy-IU"
      },
      "source": [
        "node = head\n",
        "search = True\n",
        "while search:\n",
        "  if node.data ==1:\n",
        "    search = False\n",
        "  else:\n",
        "    node = node.next\n",
        "\n",
        "node_next = node.next\n",
        "node.next = node3\n",
        "node3.next = node_next\n"
      ],
      "execution_count": 12,
      "outputs": []
    },
    {
      "cell_type": "code",
      "metadata": {
        "colab": {
          "base_uri": "https://localhost:8080/"
        },
        "id": "N-u063mjzs53",
        "outputId": "b6e9b38b-cbd7-421f-e3c2-2aecc6505737"
      },
      "source": [
        " node = head\n",
        "while node.next:\n",
        "  print(node.data)\n",
        "  node = node.next\n",
        "print(node.data)"
      ],
      "execution_count": 13,
      "outputs": [
        {
          "output_type": "stream",
          "name": "stdout",
          "text": [
            "1\n",
            "1.5\n",
            "2\n",
            "3\n",
            "4\n",
            "5\n",
            "6\n",
            "7\n",
            "8\n",
            "9\n"
          ]
        }
      ]
    },
    {
      "cell_type": "code",
      "metadata": {
        "id": "e7ZBKHrb0IBN"
      },
      "source": [
        "class Node:\n",
        "  def __init__(self, data, next=None):\n",
        "    self.data = data\n",
        "    self.next = next\n",
        "\n",
        "class NodeMgmt:\n",
        "  def __init__(self, data):\n",
        "    self.head = Node(data)\n",
        "\n",
        "  def add(self, data):\n",
        "    if self.head == \"\":\n",
        "      self.head = Node(data)\n",
        "    else:\n",
        "      node = self.head\n",
        "      while node.next:\n",
        "        node = node.next\n",
        "      node.next = Node(data)\n",
        "  \n",
        "  def desc(self):\n",
        "    node = self.head\n",
        "    while node:\n",
        "      print(node.data)\n",
        "      node = node.next"
      ],
      "execution_count": 14,
      "outputs": []
    },
    {
      "cell_type": "code",
      "metadata": {
        "colab": {
          "base_uri": "https://localhost:8080/"
        },
        "id": "Qz-oTnsd1MEN",
        "outputId": "3bc6da03-89e1-490f-b378-2bab5b195066"
      },
      "source": [
        "linkedlist1 = NodeMgmt(0)\n",
        "linkedlist1.desc()"
      ],
      "execution_count": 15,
      "outputs": [
        {
          "output_type": "stream",
          "name": "stdout",
          "text": [
            "0\n"
          ]
        }
      ]
    },
    {
      "cell_type": "code",
      "metadata": {
        "colab": {
          "base_uri": "https://localhost:8080/"
        },
        "id": "xxHoJSYF1XfG",
        "outputId": "6accb0a6-99ff-4544-990c-d39ff6730457"
      },
      "source": [
        "for data in range(1,10):\n",
        "  linkedlist1.add(data)\n",
        "linkedlist1.desc()"
      ],
      "execution_count": 16,
      "outputs": [
        {
          "output_type": "stream",
          "name": "stdout",
          "text": [
            "0\n",
            "1\n",
            "2\n",
            "3\n",
            "4\n",
            "5\n",
            "6\n",
            "7\n",
            "8\n",
            "9\n"
          ]
        }
      ]
    },
    {
      "cell_type": "code",
      "metadata": {
        "id": "cLUgnfAV1puT"
      },
      "source": [
        "class Node:\n",
        "  def __init__(self, data, next=None):\n",
        "    self.data = data\n",
        "    self.next = next\n",
        "\n",
        "class NodeMgmt:\n",
        "  def __init__(self, data):\n",
        "    self.head = Node(data)\n",
        "\n",
        "  def add(self, data):\n",
        "    if self.head == \"\":\n",
        "      self.head = Node(data)\n",
        "    else:\n",
        "      node = self.head\n",
        "      while node.next:\n",
        "        node = node.next\n",
        "      node.next = Node(data)\n",
        "  \n",
        "  def desc(self):\n",
        "    node = self.head\n",
        "    while node:\n",
        "      print(node.data)\n",
        "      node = node.next\n",
        "  \n",
        "  def delete(self, data):\n",
        "    if self.head == \"\":\n",
        "      print(\"해당 값을 가진 노드가 없습니다.\")\n",
        "      return\n",
        "    \n",
        "    if self.head.data == data:\n",
        "      temp = self.head\n",
        "      self.head = self.head.next\n",
        "      del temp\n",
        "    else:\n",
        "      node = self.head\n",
        "      while node.next:\n",
        "        if node.next.data == data:\n",
        "          temp = node.next\n",
        "          node.next = node.next.next\n",
        "          del temp\n",
        "          return\n",
        "        else:\n",
        "          node=node.next\n",
        "\n",
        "    "
      ],
      "execution_count": 17,
      "outputs": []
    },
    {
      "cell_type": "code",
      "metadata": {
        "colab": {
          "base_uri": "https://localhost:8080/"
        },
        "id": "tk4Gs7Li5Vew",
        "outputId": "3e9677f7-6ccf-4378-d910-b1afba325116"
      },
      "source": [
        "linkedlist1 = NodeMgmt(0)\n",
        "linkedlist1.desc()"
      ],
      "execution_count": 23,
      "outputs": [
        {
          "output_type": "stream",
          "name": "stdout",
          "text": [
            "0\n"
          ]
        }
      ]
    },
    {
      "cell_type": "code",
      "metadata": {
        "id": "iEi9CgJv5avM"
      },
      "source": [
        "linkedlist1.delete(0)"
      ],
      "execution_count": 19,
      "outputs": []
    },
    {
      "cell_type": "code",
      "metadata": {
        "id": "KWRBk_3s5fJK"
      },
      "source": [
        "linkedlist1.head"
      ],
      "execution_count": 21,
      "outputs": []
    },
    {
      "cell_type": "code",
      "metadata": {
        "id": "vl31D9FB59ri"
      },
      "source": [
        "linkedlist1 = NodeMgmt(0)\n",
        "linkedlist1.desc()"
      ],
      "execution_count": null,
      "outputs": []
    },
    {
      "cell_type": "code",
      "metadata": {
        "colab": {
          "base_uri": "https://localhost:8080/"
        },
        "id": "tpK10Euy5h3t",
        "outputId": "053fcc96-099f-4304-b4d9-c5c0b694abd4"
      },
      "source": [
        "for data in range(1,10):\n",
        "  linkedlist1.add(data)\n",
        "linkedlist1.desc()"
      ],
      "execution_count": 24,
      "outputs": [
        {
          "output_type": "stream",
          "name": "stdout",
          "text": [
            "0\n",
            "1\n",
            "2\n",
            "3\n",
            "4\n",
            "5\n",
            "6\n",
            "7\n",
            "8\n",
            "9\n"
          ]
        }
      ]
    },
    {
      "cell_type": "code",
      "metadata": {
        "id": "c4c-82lu6ANE"
      },
      "source": [
        "linkedlist1.delete(9)"
      ],
      "execution_count": 27,
      "outputs": []
    },
    {
      "cell_type": "code",
      "metadata": {
        "colab": {
          "base_uri": "https://localhost:8080/"
        },
        "id": "B_2xYnGc6FWm",
        "outputId": "52f8377b-6c63-4383-8897-67e1099451fe"
      },
      "source": [
        "linkedlist1.desc()"
      ],
      "execution_count": 28,
      "outputs": [
        {
          "output_type": "stream",
          "name": "stdout",
          "text": [
            "0\n",
            "1\n",
            "2\n",
            "3\n",
            "5\n",
            "6\n",
            "7\n",
            "8\n"
          ]
        }
      ]
    }
  ]
}